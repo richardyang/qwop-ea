{
 "cells": [
  {
   "cell_type": "code",
   "execution_count": 29,
   "metadata": {
    "collapsed": true
   },
   "outputs": [],
   "source": [
    "%load_ext autoreload\n",
    "%autoreload 2"
   ]
  },
  {
   "cell_type": "code",
   "execution_count": 30,
   "metadata": {
    "scrolled": true
   },
   "outputs": [
    {
     "name": "stdout",
     "output_type": "stream",
     "text": [
      "Fetching package metadata ...............\n",
      "Solving package specifications: .\n",
      "\n",
      "Package plan for installation in environment C:\\Users\\Richard\\Anaconda3:\n",
      "\n",
      "The following NEW packages will be INSTALLED:\n",
      "\n",
      "    _anaconda_depends:      5.0.1-py36h8316230_2             \n",
      "    blas:                   1.0-mkl                          \n",
      "    conda-package-handling: 1.6.0-py36h2fa13f4_1  conda-forge\n",
      "    deap:                   1.3.1-py36he350917_0  conda-forge\n",
      "    ffmpeg:                 4.2-h6538335_0        conda-forge\n",
      "    joblib:                 0.14.1-py_0           conda-forge\n",
      "    kiwisolver:             1.1.0-py36he980bc4_0  conda-forge\n",
      "    libblas:                3.8.0-14_mkl          conda-forge\n",
      "    libcblas:               3.8.0-14_mkl          conda-forge\n",
      "    liblapack:              3.8.0-14_mkl          conda-forge\n",
      "    lzo:                    2.10-hfa6e2cd_1000    conda-forge\n",
      "    matplotlib-base:        3.1.3-py36h2981e6d_0  conda-forge\n",
      "    tqdm:                   4.43.0-py_0           conda-forge\n",
      "\n",
      "The following packages will be UPDATED:\n",
      "\n",
      "    anaconda:               5.0.0-py36hea9b2fc_0              --> custom-py36_1                      \n",
      "    conda:                  4.3.27-py36hcbae3bd_0             --> 4.8.2-py36_0            conda-forge\n",
      "    freetype:               2.8-vc14h17c9bdf_0                --> 2.10.0-h563cfd7_1       conda-forge\n",
      "    icc_rt:                 2017.0.4-h97af966_0               --> 2019.0.0-h0cc432a_1                \n",
      "    libpng:                 1.6.32-vc14hce43e6c_2             --> 1.6.37-h7602738_0       conda-forge\n",
      "    libtiff:                4.0.8-vc14h04e2a1e_10             --> 4.0.9-hf1753bf_1        conda-forge\n",
      "    llvmlite:               0.20.0-py36_0                     --> 0.31.0-py36_0           conda-forge\n",
      "    matplotlib:             2.0.2-py36h58ba717_1              --> 3.1.3-py36_0            conda-forge\n",
      "    menuinst:               1.4.8-py36h870ab7d_0              --> 1.4.16-py36_0           conda-forge\n",
      "    mkl:                    2018.0.0-h36b65af_4               --> 2019.4-245                         \n",
      "    mkl-service:            1.1.2-py36h57e144c_4              --> 2.3.0-py36hfa6e2cd_0    conda-forge\n",
      "    numba:                  0.35.0-np113py36_10               --> 0.48.0-py36he350917_0   conda-forge\n",
      "    numexpr:                2.6.2-py36h7ca04dc_1              --> 2.7.1-py36h6538335_0    conda-forge\n",
      "    numpy:                  1.13.1-py36haf1bc54_2             --> 1.18.1-py36hc71023c_0   conda-forge\n",
      "    pillow:                 4.2.1-py36hdb25ab2_0              --> 5.2.0-py36h08bbbbd_0               \n",
      "    pycosat:                0.6.2-py36hf17546d_1              --> 0.6.3-py36hfa6e2cd_1002 conda-forge\n",
      "    scikit-learn:           0.19.0-py36h294a771_2             --> 0.22.1-py36h7208079_1   conda-forge\n",
      "    scipy:                  0.19.1-py36h7565378_3             --> 1.3.1-py36h29ff71c_0    conda-forge\n",
      "    vc:                     14-h2379b0c_1                     --> 14.1-h0510ff6_4                    \n",
      "    vs2015_runtime:         14.0.25123-hd4c4e62_1             --> 14.16.27012-hf0eaf9b_1             \n",
      "\n",
      "The following packages will be SUPERSEDED by a higher-priority channel:\n",
      "\n",
      "    conda-env:              2.6.0-h36134e3_1                  --> 2.6.0-1                 conda-forge\n",
      "\n"
     ]
    },
    {
     "name": "stderr",
     "output_type": "stream",
     "text": [
      "ERROR conda.core.link:_execute_actions(337): An error occurred while installing package 'conda-forge::tqdm-4.43.0-py_0'.\n",
      "CondaError: Cannot link a source that does not exist. C:\\Users\\Richard\\Anaconda3\\Scripts\\conda.exe\n",
      "Attempting to roll back.\n",
      "\n",
      "\n",
      "CondaError: Cannot link a source that does not exist. C:\\Users\\Richard\\Anaconda3\\Scripts\\conda.exe\n",
      "\n",
      "\n"
     ]
    }
   ],
   "source": [
    "# Install conda package requirements\n",
    "import sys\n",
    "!conda install -c conda-forge --yes --prefix {sys.prefix} numpy matplotlib ffmpeg deap"
   ]
  },
  {
   "cell_type": "code",
   "execution_count": 2,
   "metadata": {},
   "outputs": [
    {
     "name": "stdout",
     "output_type": "stream",
     "text": [
      "The score for this run: -0.36760332250879435\n"
     ]
    },
    {
     "ename": "RuntimeError",
     "evalue": "No MovieWriters available!",
     "output_type": "error",
     "traceback": [
      "\u001b[1;31m---------------------------------------------------------------------------\u001b[0m",
      "\u001b[1;31mRuntimeError\u001b[0m                              Traceback (most recent call last)",
      "\u001b[1;32m<ipython-input-2-d2f0566b76fe>\u001b[0m in \u001b[0;36m<module>\u001b[1;34m()\u001b[0m\n\u001b[0;32m     12\u001b[0m \u001b[0mscore\u001b[0m\u001b[1;33m,\u001b[0m \u001b[0mvis\u001b[0m \u001b[1;33m=\u001b[0m \u001b[0msim\u001b[0m\u001b[1;33m(\u001b[0m\u001b[0mplan\u001b[0m\u001b[1;33m)\u001b[0m\u001b[1;33m\u001b[0m\u001b[0m\n\u001b[0;32m     13\u001b[0m \u001b[0mprint\u001b[0m\u001b[1;33m(\u001b[0m\u001b[1;34m\"The score for this run: {0}\"\u001b[0m\u001b[1;33m.\u001b[0m\u001b[0mformat\u001b[0m\u001b[1;33m(\u001b[0m\u001b[0mscore\u001b[0m\u001b[1;33m)\u001b[0m\u001b[1;33m)\u001b[0m\u001b[1;33m\u001b[0m\u001b[0m\n\u001b[1;32m---> 14\u001b[1;33m \u001b[0manimate\u001b[0m\u001b[1;33m(\u001b[0m\u001b[0mvis\u001b[0m\u001b[1;33m)\u001b[0m\u001b[1;33m\u001b[0m\u001b[0m\n\u001b[0m",
      "\u001b[1;32mC:\\GitHub\\qwop-ea\\utils.py\u001b[0m in \u001b[0;36manimate\u001b[1;34m(data)\u001b[0m\n\u001b[0;32m    209\u001b[0m                                    \u001b[0mframes\u001b[0m\u001b[1;33m=\u001b[0m\u001b[0mlen\u001b[0m\u001b[1;33m(\u001b[0m\u001b[0mdata\u001b[0m\u001b[1;33m)\u001b[0m\u001b[1;33m,\u001b[0m\u001b[1;33m\u001b[0m\u001b[0m\n\u001b[0;32m    210\u001b[0m                                    interval=20)\n\u001b[1;32m--> 211\u001b[1;33m     \u001b[1;32mreturn\u001b[0m \u001b[0mHTML\u001b[0m\u001b[1;33m(\u001b[0m\u001b[0manim\u001b[0m\u001b[1;33m.\u001b[0m\u001b[0mto_html5_video\u001b[0m\u001b[1;33m(\u001b[0m\u001b[1;33m)\u001b[0m\u001b[1;33m)\u001b[0m\u001b[1;33m\u001b[0m\u001b[0m\n\u001b[0m",
      "\u001b[1;32m~\\Anaconda3\\lib\\site-packages\\matplotlib\\animation.py\u001b[0m in \u001b[0;36mto_html5_video\u001b[1;34m(self)\u001b[0m\n\u001b[0;32m   1203\u001b[0m                 \u001b[1;31m# We create a writer manually so that we can get the\u001b[0m\u001b[1;33m\u001b[0m\u001b[1;33m\u001b[0m\u001b[0m\n\u001b[0;32m   1204\u001b[0m                 \u001b[1;31m# appropriate size for the tag\u001b[0m\u001b[1;33m\u001b[0m\u001b[1;33m\u001b[0m\u001b[0m\n\u001b[1;32m-> 1205\u001b[1;33m                 \u001b[0mWriter\u001b[0m \u001b[1;33m=\u001b[0m \u001b[0mwriters\u001b[0m\u001b[1;33m[\u001b[0m\u001b[0mrcParams\u001b[0m\u001b[1;33m[\u001b[0m\u001b[1;34m'animation.writer'\u001b[0m\u001b[1;33m]\u001b[0m\u001b[1;33m]\u001b[0m\u001b[1;33m\u001b[0m\u001b[0m\n\u001b[0m\u001b[0;32m   1206\u001b[0m                 writer = Writer(codec='h264',\n\u001b[0;32m   1207\u001b[0m                                 \u001b[0mbitrate\u001b[0m\u001b[1;33m=\u001b[0m\u001b[0mrcParams\u001b[0m\u001b[1;33m[\u001b[0m\u001b[1;34m'animation.bitrate'\u001b[0m\u001b[1;33m]\u001b[0m\u001b[1;33m,\u001b[0m\u001b[1;33m\u001b[0m\u001b[0m\n",
      "\u001b[1;32m~\\Anaconda3\\lib\\site-packages\\matplotlib\\animation.py\u001b[0m in \u001b[0;36m__getitem__\u001b[1;34m(self, name)\u001b[0m\n\u001b[0;32m    157\u001b[0m         \u001b[0mself\u001b[0m\u001b[1;33m.\u001b[0m\u001b[0mensure_not_dirty\u001b[0m\u001b[1;33m(\u001b[0m\u001b[1;33m)\u001b[0m\u001b[1;33m\u001b[0m\u001b[0m\n\u001b[0;32m    158\u001b[0m         \u001b[1;32mif\u001b[0m \u001b[1;32mnot\u001b[0m \u001b[0mself\u001b[0m\u001b[1;33m.\u001b[0m\u001b[0mavail\u001b[0m\u001b[1;33m:\u001b[0m\u001b[1;33m\u001b[0m\u001b[0m\n\u001b[1;32m--> 159\u001b[1;33m             \u001b[1;32mraise\u001b[0m \u001b[0mRuntimeError\u001b[0m\u001b[1;33m(\u001b[0m\u001b[1;34m\"No MovieWriters available!\"\u001b[0m\u001b[1;33m)\u001b[0m\u001b[1;33m\u001b[0m\u001b[0m\n\u001b[0m\u001b[0;32m    160\u001b[0m         \u001b[1;32mreturn\u001b[0m \u001b[0mself\u001b[0m\u001b[1;33m.\u001b[0m\u001b[0mavail\u001b[0m\u001b[1;33m[\u001b[0m\u001b[0mname\u001b[0m\u001b[1;33m]\u001b[0m\u001b[1;33m\u001b[0m\u001b[0m\n\u001b[0;32m    161\u001b[0m \u001b[1;33m\u001b[0m\u001b[0m\n",
      "\u001b[1;31mRuntimeError\u001b[0m: No MovieWriters available!"
     ]
    }
   ],
   "source": [
    "from utils import sim, animate\n",
    "# sim() is a black-box function that we are trying to optimize\n",
    "# sim() takes a length 40 vector (plan) as input, \n",
    "# and outputs a score and a vector that can be used to visualize the plan using animate()\n",
    "# Our goal is to find the plan that maximizes the score without any knowledge of the sim function\n",
    "\n",
    "# Let's try a random vector to see how this works\n",
    "# FYI: the values in plan should be in the range [-1.0, 1.0]\n",
    "import random\n",
    "\n",
    "PLAN_LENGTH = 40\n",
    "plan = [random.uniform(-1,1) for i in range(PLAN_LENGTH)]\n",
    "score, vis = sim(plan)\n",
    "print(\"The score for this run: {0}\".format(score))\n",
    "animate(vis)"
   ]
  },
  {
   "cell_type": "code",
   "execution_count": 31,
   "metadata": {},
   "outputs": [
    {
     "ename": "ModuleNotFoundError",
     "evalue": "No module named 'deap'",
     "output_type": "error",
     "traceback": [
      "\u001b[1;31m---------------------------------------------------------------------------\u001b[0m",
      "\u001b[1;31mModuleNotFoundError\u001b[0m                       Traceback (most recent call last)",
      "\u001b[1;32m<ipython-input-31-8bcf82405631>\u001b[0m in \u001b[0;36m<module>\u001b[1;34m()\u001b[0m\n\u001b[1;32m----> 1\u001b[1;33m \u001b[1;32mfrom\u001b[0m \u001b[0mdeap\u001b[0m \u001b[1;32mimport\u001b[0m \u001b[0mbase\u001b[0m\u001b[1;33m\u001b[0m\u001b[0m\n\u001b[0m\u001b[0;32m      2\u001b[0m \u001b[1;32mfrom\u001b[0m \u001b[0mdeap\u001b[0m \u001b[1;32mimport\u001b[0m \u001b[0mcreator\u001b[0m\u001b[1;33m\u001b[0m\u001b[0m\n\u001b[0;32m      3\u001b[0m \u001b[1;32mfrom\u001b[0m \u001b[0mdeap\u001b[0m \u001b[1;32mimport\u001b[0m \u001b[0mtools\u001b[0m\u001b[1;33m\u001b[0m\u001b[0m\n\u001b[0;32m      4\u001b[0m \u001b[1;33m\u001b[0m\u001b[0m\n\u001b[0;32m      5\u001b[0m \u001b[1;31m# DEAP tutorial here: https://deap.readthedocs.io/en/0.9.2/tutorials/next_step.html\u001b[0m\u001b[1;33m\u001b[0m\u001b[1;33m\u001b[0m\u001b[0m\n",
      "\u001b[1;31mModuleNotFoundError\u001b[0m: No module named 'deap'"
     ]
    }
   ],
   "source": [
    "import numpy as np\n",
    "from deap import base\n",
    "from deap import creator\n",
    "from deap import tools\n",
    "\n",
    "# DEAP tutorial here: https://deap.readthedocs.io/en/0.9.2/tutorials/next_step.html\n",
    "\n",
    "# Placeholder for the fitness function we will maximize. Since single objective, set weights = 1 (-1 if want to minimize)\n",
    "creator.create(\"FitnessMax\", base.Fitness, weights=(1.0,))\n",
    "# Placeholder for the individuals in the population, specify that they will maximize this fitness function\n",
    "creator.create(\"Individual\", list, fitness=creator.FitnessMax)\n",
    "\n",
    "toolbox = base.Toolbox()\n",
    "# Each float value in the plan vector is generated randomly between [-1, 1]\n",
    "toolbox.register(\"param\", lambda: random.uniform(-1, 1))\n",
    "# Construct an individual by repeating param 40 times (length of the plan)\n",
    "toolbox.register(\"individual\", tools.initRepeat, creator.Individual, toolbox.attr_float, n=PLAN_LENGTH)\n",
    "\n",
    "# Evaluation function must return a tuple of scores, even if single objective (DEAP limitation)\n",
    "def evaluate(individual):\n",
    "    # Run the blackbox simulation function\n",
    "    score, vis = sim(individual)\n",
    "    return (score, )\n",
    "\n",
    "# Evolutionary operators:\n",
    "toolbox.register(\"mate\", tools.cxTwoPoints)\n",
    "toolbox.register(\"mutate\", tools.mutGaussian, mu=0, sigma=1, indpb=0.2)\n",
    "toolbox.register(\"select\", tools.selTournament, tournsize=3) # keep top 3 at each iteration\n",
    "toolbox.register(\"evaluate\", evaluate)\n",
    "\n",
    "# Use Statistics object to keep track of generation statistics\n",
    "stats = tools.Statistics(lambda ind: ind.fitness.values)\n",
    "stats.register(\"avg\", np.mean)\n",
    "stats.register(\"std\", np.std)\n",
    "stats.register(\"min\", np.min)\n",
    "stats.register(\"max\", np.max)\n",
    "\n",
    "# Use HallOfFame to keep track of the best score in each generation\n",
    "hof = tools.HallOfFame(1)"
   ]
  },
  {
   "cell_type": "code",
   "execution_count": null,
   "metadata": {
    "collapsed": true
   },
   "outputs": [],
   "source": [
    "from deap import algorithms\n",
    "\n",
    "pop = toolbox.population(n=100)\n",
    "algorithms.eaSimple(pop, toolbox, cxpb=0.5, mutpb=0.2, ngen=50, stats=stats, halloffame=hof)"
   ]
  },
  {
   "cell_type": "code",
   "execution_count": null,
   "metadata": {
    "collapsed": true
   },
   "outputs": [],
   "source": [
    "# plan = [0.859299117197304, 1, 0.780270105018788, 1, 0.7504514423911175, 1, -0.4958273806176754, -0.33157669061856165, -0.35354812375627903, -1, 0.6319705912314579, 0.5120149480504664, 0.7468200736356866, 1, -0.801342219218572, 0.14947003196276615, -0.964679922017247, -1, 1, -0.5728395942608424, -1, 1, -1, -1, -0.13974555747105044, -0.8209659614171153, -0.4874201389911598, 1, -1, -1, -0.19891790516499913, -1, 0.510384051261022, 1, -0.2878088359383367, 1, 0.7648022994093616, 0.9855793430993026, -1, -1]"
   ]
  }
 ],
 "metadata": {
  "kernelspec": {
   "display_name": "Python 3",
   "language": "python",
   "name": "python3"
  },
  "language_info": {
   "codemirror_mode": {
    "name": "ipython",
    "version": 3
   },
   "file_extension": ".py",
   "mimetype": "text/x-python",
   "name": "python",
   "nbconvert_exporter": "python",
   "pygments_lexer": "ipython3",
   "version": "3.6.2"
  }
 },
 "nbformat": 4,
 "nbformat_minor": 4
}
