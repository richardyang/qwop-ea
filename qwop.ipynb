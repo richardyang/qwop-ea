{
 "cells": [
  {
   "cell_type": "code",
   "execution_count": null,
   "metadata": {},
   "outputs": [],
   "source": [
    "%load_ext autoreload\n",
    "%autoreload 2"
   ]
  },
  {
   "cell_type": "code",
   "execution_count": 14,
   "metadata": {
    "scrolled": true
   },
   "outputs": [
    {
     "name": "stdout",
     "output_type": "stream",
     "text": [
      "Collecting package metadata (current_repodata.json): done\n",
      "Solving environment: done\n",
      "\n",
      "\n",
      "==> WARNING: A newer version of conda exists. <==\n",
      "  current version: 4.7.12\n",
      "  latest version: 4.8.2\n",
      "\n",
      "Please update conda by running\n",
      "\n",
      "    $ conda update -n base -c defaults conda\n",
      "\n",
      "\n",
      "\n",
      "## Package Plan ##\n",
      "\n",
      "  environment location: /Users/ryang/anaconda3/envs/perfect-event-look-alike\n",
      "\n",
      "  added / updated specs:\n",
      "    - deap\n",
      "    - ffmpeg\n",
      "    - matplotlib\n",
      "    - numpy\n",
      "\n",
      "\n",
      "The following packages will be downloaded:\n",
      "\n",
      "    package                    |            build\n",
      "    ---------------------------|-----------------\n",
      "    certifi-2019.11.28         |           py36_0         148 KB  conda-forge\n",
      "    deap-1.3.1                 |   py36h4f17bb1_0         152 KB  conda-forge\n",
      "    ffmpeg-4.2                 |       h5c2b479_0        43.3 MB  conda-forge\n",
      "    gettext-0.19.8.1           |    h46ab8bc_1002         3.3 MB  conda-forge\n",
      "    gnutls-3.6.5               |    h53004b3_1002         2.0 MB  conda-forge\n",
      "    libblas-3.8.0              |           14_mkl          10 KB  conda-forge\n",
      "    libcblas-3.8.0             |           14_mkl          10 KB  conda-forge\n",
      "    libcxx-9.0.1               |                1        1011 KB  conda-forge\n",
      "    liblapack-3.8.0            |           14_mkl          10 KB  conda-forge\n",
      "    nettle-3.4.1               |    h3efe00b_1002         1.0 MB  conda-forge\n",
      "    numpy-1.18.1               |   py36hde6bac1_0         5.0 MB  conda-forge\n",
      "    ------------------------------------------------------------\n",
      "                                           Total:        55.9 MB\n",
      "\n",
      "The following NEW packages will be INSTALLED:\n",
      "\n",
      "  deap               conda-forge/osx-64::deap-1.3.1-py36h4f17bb1_0\n",
      "  gettext            conda-forge/osx-64::gettext-0.19.8.1-h46ab8bc_1002\n",
      "  gnutls             conda-forge/osx-64::gnutls-3.6.5-h53004b3_1002\n",
      "  libblas            conda-forge/osx-64::libblas-3.8.0-14_mkl\n",
      "  libcblas           conda-forge/osx-64::libcblas-3.8.0-14_mkl\n",
      "  liblapack          conda-forge/osx-64::liblapack-3.8.0-14_mkl\n",
      "  nettle             conda-forge/osx-64::nettle-3.4.1-h3efe00b_1002\n",
      "\n",
      "The following packages will be UPDATED:\n",
      "\n",
      "  libcxx                                   9.0.0-h89e68fa_1 --> 9.0.1-1\n",
      "  numpy              pkgs/main::numpy-1.17.4-py36h890c691_0 --> conda-forge::numpy-1.18.1-py36hde6bac1_0\n",
      "\n",
      "The following packages will be SUPERSEDED by a higher-priority channel:\n",
      "\n",
      "  ca-certificates     pkgs/main::ca-certificates-2020.1.1-0 --> conda-forge::ca-certificates-2019.11.28-hecc5488_0\n",
      "  certifi                                         pkgs/main --> conda-forge\n",
      "  ffmpeg                   pkgs/main::ffmpeg-4.2-h677a3f5_0 --> conda-forge::ffmpeg-4.2-h5c2b479_0\n",
      "  openssl              pkgs/main::openssl-1.1.1d-h1de35cc_4 --> conda-forge::openssl-1.1.1d-h0b31af3_0\n",
      "\n",
      "\n",
      "\n",
      "Downloading and Extracting Packages\n",
      "liblapack-3.8.0      | 10 KB     | ##################################### | 100% \n",
      "nettle-3.4.1         | 1.0 MB    | ##################################### | 100% \n",
      "gnutls-3.6.5         | 2.0 MB    | ##################################### | 100% \n",
      "libcblas-3.8.0       | 10 KB     | ##################################### | 100% \n",
      "gettext-0.19.8.1     | 3.3 MB    | ##################################### | 100% \n",
      "certifi-2019.11.28   | 148 KB    | ##################################### | 100% \n",
      "numpy-1.18.1         | 5.0 MB    | ##################################### | 100% \n",
      "libblas-3.8.0        | 10 KB     | ##################################### | 100% \n",
      "deap-1.3.1           | 152 KB    | ##################################### | 100% \n",
      "libcxx-9.0.1         | 1011 KB   | ##################################### | 100% \n",
      "ffmpeg-4.2           | 43.3 MB   | ##################################### | 100% \n",
      "Preparing transaction: done\n",
      "Verifying transaction: done\n",
      "Executing transaction: done\n"
     ]
    }
   ],
   "source": [
    "# Install conda package requirements\n",
    "import sys\n",
    "!conda install -c conda-forge --yes --prefix {sys.prefix} numpy matplotlib ffmpeg deap"
   ]
  },
  {
   "cell_type": "code",
   "execution_count": null,
   "metadata": {},
   "outputs": [],
   "source": [
    "from utils import sim, animate\n",
    "# sim() is a black-box function that we are trying to optimize\n",
    "# sim() takes a length 40 vector (plan) as input, \n",
    "# and outputs a score and a vector that can be used to visualize the plan using animate()\n",
    "# Our goal is to find the plan that maximizes the score without any knowledge of the sim function\n",
    "\n",
    "# Let's try a random vector to see how this works\n",
    "# FYI: the values in plan should be in the range [-1.0, 1.0]\n",
    "import random\n",
    "\n",
    "plan = [random.uniform(-1,1) for i in range(40)]\n",
    "score, vis = sim(plan)\n",
    "print(\"The score for this run: {0}\".format(score))\n",
    "animate(vis)"
   ]
  },
  {
   "cell_type": "code",
   "execution_count": null,
   "metadata": {},
   "outputs": [],
   "source": [
    "import random\n",
    "\n",
    "from deap import base\n",
    "from deap import creator\n",
    "from deap import tools\n",
    "\n"
   ]
  },
  {
   "cell_type": "code",
   "execution_count": null,
   "metadata": {},
   "outputs": [],
   "source": [
    "# plan = [0.859299117197304, 1, 0.780270105018788, 1, 0.7504514423911175, 1, -0.4958273806176754, -0.33157669061856165, -0.35354812375627903, -1, 0.6319705912314579, 0.5120149480504664, 0.7468200736356866, 1, -0.801342219218572, 0.14947003196276615, -0.964679922017247, -1, 1, -0.5728395942608424, -1, 1, -1, -1, -0.13974555747105044, -0.8209659614171153, -0.4874201389911598, 1, -1, -1, -0.19891790516499913, -1, 0.510384051261022, 1, -0.2878088359383367, 1, 0.7648022994093616, 0.9855793430993026, -1, -1]"
   ]
  },
  {
   "cell_type": "code",
   "execution_count": null,
   "metadata": {},
   "outputs": [],
   "source": []
  }
 ],
 "metadata": {
  "kernelspec": {
   "display_name": "Python 3",
   "language": "python",
   "name": "python3"
  },
  "language_info": {
   "codemirror_mode": {
    "name": "ipython",
    "version": 3
   },
   "file_extension": ".py",
   "mimetype": "text/x-python",
   "name": "python",
   "nbconvert_exporter": "python",
   "pygments_lexer": "ipython3",
   "version": "3.6.7"
  }
 },
 "nbformat": 4,
 "nbformat_minor": 4
}
